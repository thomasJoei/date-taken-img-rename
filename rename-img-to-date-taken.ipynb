{
 "cells": [
  {
   "cell_type": "code",
   "execution_count": 3,
   "metadata": {},
   "outputs": [
    {
     "name": "stdout",
     "output_type": "stream",
     "text": [
      "Are you sure you want to rename all 2 files inside /Users/thojoeis1/perso/python-stuff/img-rename-by-date directory ? (y/n)y\n",
      "Renaming 20180514-054723.jpg => 20180514-054723.jpg\n",
      "Renaming 20180525-070219.jpg => 20180525-070219.jpg\n"
     ]
    }
   ],
   "source": [
    "import os\n",
    "import sys\n",
    "from PIL import Image\n",
    "from PIL.ExifTags import TAGS\n",
    "import re\n",
    "import mimetypes\n",
    "\n",
    "def getDateTaken(filename):\n",
    "    ret = {}\n",
    "    image = Image.open(filename)\n",
    "    exifinfo = None\n",
    "    \n",
    "    try :\n",
    "        exifinfo = image._getexif()\n",
    "    except AttributeError:\n",
    "        print(\"{} file does not contain METADATA. Skipping...\".format(filename))\n",
    "        return None\n",
    "    \n",
    "    if exifinfo is not None:\n",
    "        for tag, value in exifinfo.items():\n",
    "            decoded = TAGS.get(tag, tag)\n",
    "            ret[decoded] = value\n",
    "    return ret['DateTimeOriginal']\n",
    "\n",
    "\n",
    "mypath = os.getcwd()\n",
    "allowedTypes = ['image/png', 'image/jpeg']\n",
    "\n",
    "files = [f for f in os.listdir(mypath) if (os.path.isfile(f) and mimetypes.guess_type(f)[0] in allowedTypes)]\n",
    "agree = input(\"Are you sure you want to rename all {} files inside {} directory ? (y/n)\".format(len(files), mypath))\n",
    "\n",
    "if (agree == 'y'):\n",
    "    for f in files:\n",
    "        dateTaken = getDateTaken(f)\n",
    "        \n",
    "        if dateTaken is not None:\n",
    "            dateTaken = re.sub(r':', '', dateTaken)\n",
    "            dateTaken = re.sub(r' ', '-', dateTaken)\n",
    "            filename, file_extension = os.path.splitext(f)\n",
    "            newName = dateTaken + file_extension\n",
    "\n",
    "            print(\"Renaming {} => {}\".format(f, newName))\n",
    "            os.rename(f, newName)\n",
    "else:\n",
    "    print('Aborted')\n",
    "\n"
   ]
  },
  {
   "cell_type": "code",
   "execution_count": null,
   "metadata": {
    "collapsed": true
   },
   "outputs": [],
   "source": []
  }
 ],
 "metadata": {
  "kernelspec": {
   "display_name": "Python 3",
   "language": "python",
   "name": "python3"
  },
  "language_info": {
   "codemirror_mode": {
    "name": "ipython",
    "version": 3
   },
   "file_extension": ".py",
   "mimetype": "text/x-python",
   "name": "python",
   "nbconvert_exporter": "python",
   "pygments_lexer": "ipython3",
   "version": "3.6.3"
  }
 },
 "nbformat": 4,
 "nbformat_minor": 2
}
